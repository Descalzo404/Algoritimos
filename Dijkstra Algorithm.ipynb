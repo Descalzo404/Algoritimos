{
 "cells": [
  {
   "cell_type": "markdown",
   "id": "3f7c6393",
   "metadata": {},
   "source": [
    "# Dijkstra Algorithm"
   ]
  },
  {
   "cell_type": "markdown",
   "id": "a0af4e97",
   "metadata": {},
   "source": [
    "- This algorithm finds the path with the minimal cost\n",
    "- It does not work when the cost of some unit is negative, for this there is the bellman-ford algorithm."
   ]
  },
  {
   "cell_type": "markdown",
   "id": "b66e06e2",
   "metadata": {},
   "source": [
    "### Creating the algorithm"
   ]
  },
  {
   "cell_type": "markdown",
   "id": "976de32f",
   "metadata": {},
   "source": [
    "- Creating the \"map\""
   ]
  },
  {
   "cell_type": "code",
   "execution_count": 3,
   "id": "2fc3525a",
   "metadata": {},
   "outputs": [
    {
     "name": "stdout",
     "output_type": "stream",
     "text": [
      "dict_keys(['a', 'b'])\n"
     ]
    }
   ],
   "source": [
    "graph = {}\n",
    "graph['start'] = {}\n",
    "graph['start']['a'] = 6\n",
    "graph['start']['b'] = 2\n",
    "\n",
    "print(graph['start'].keys())"
   ]
  },
  {
   "cell_type": "code",
   "execution_count": 4,
   "id": "fddb6a23",
   "metadata": {},
   "outputs": [],
   "source": [
    "graph['a'] = {}\n",
    "graph['a']['end'] = 1\n",
    "\n",
    "graph['b'] = {}\n",
    "graph['b']['a'] = 3\n",
    "graph['b']['end'] = 5\n",
    "\n",
    "graph['end'] = {}"
   ]
  },
  {
   "cell_type": "markdown",
   "id": "985d0ff6",
   "metadata": {},
   "source": [
    "- Creating the cost table"
   ]
  },
  {
   "cell_type": "code",
   "execution_count": 5,
   "id": "112b8c2c",
   "metadata": {},
   "outputs": [],
   "source": [
    "costs = {}\n",
    "costs['a'] = 6\n",
    "costs['b'] = 2\n",
    "costs['end'] = float('inf')"
   ]
  },
  {
   "cell_type": "markdown",
   "id": "3a7cc264",
   "metadata": {},
   "source": [
    "- Creating the parents table"
   ]
  },
  {
   "cell_type": "code",
   "execution_count": 6,
   "id": "350a4e79",
   "metadata": {},
   "outputs": [],
   "source": [
    "parents = {}\n",
    "parents['a'] = 'start'\n",
    "parents['b'] = 'start'\n",
    "parents['end'] = None"
   ]
  },
  {
   "cell_type": "code",
   "execution_count": 7,
   "id": "2139b4f4",
   "metadata": {},
   "outputs": [],
   "source": [
    "processed = [] # ==> array that keeps track of the nodes that have been processed"
   ]
  },
  {
   "cell_type": "markdown",
   "id": "5e9a608f",
   "metadata": {},
   "source": [
    "- Algorithm"
   ]
  },
  {
   "cell_type": "code",
   "execution_count": 8,
   "id": "d4128f0e",
   "metadata": {},
   "outputs": [],
   "source": [
    "def find_least_cost(costs):\n",
    "    cheaper = float('inf')\n",
    "    node_least_cost = None\n",
    "    for node in costs:\n",
    "        cost = costs[node]\n",
    "        if cost < cheaper and node not in processed:\n",
    "            cheaper = cost\n",
    "            node_least_cost = node\n",
    "    return node_least_cost"
   ]
  },
  {
   "cell_type": "code",
   "execution_count": 9,
   "id": "b3fd5713",
   "metadata": {},
   "outputs": [],
   "source": [
    "node = find_least_cost(costs)\n",
    "while node is not None:\n",
    "    cost = costs[node]\n",
    "    neighbors = graph[node]\n",
    "    for n in neighbors.keys():\n",
    "        new_cost = cost + neighbors[n]\n",
    "        if costs[n] > new_cost:\n",
    "            costs[n] = new_cost\n",
    "            parents[n] = node\n",
    "    processed.append(node)\n",
    "    node = find_least_cost(costs)"
   ]
  },
  {
   "cell_type": "code",
   "execution_count": 16,
   "id": "f6660f05",
   "metadata": {},
   "outputs": [
    {
     "name": "stdout",
     "output_type": "stream",
     "text": [
      "['start', 'b', 'a', 'end']\n",
      "cost:  6\n"
     ]
    }
   ],
   "source": [
    "parent_node = parents['end']\n",
    "path = ['end']\n",
    "while parent_node != 'start':\n",
    "    path.append(parent_node)\n",
    "    new_parent = parents[parent_node]\n",
    "    parent_node = new_parent\n",
    "path.append('start')\n",
    "path.reverse()\n",
    "print(path)\n",
    "print('cost: ', costs['end'])"
   ]
  }
 ],
 "metadata": {
  "kernelspec": {
   "display_name": "Python 3",
   "language": "python",
   "name": "python3"
  },
  "language_info": {
   "codemirror_mode": {
    "name": "ipython",
    "version": 3
   },
   "file_extension": ".py",
   "mimetype": "text/x-python",
   "name": "python",
   "nbconvert_exporter": "python",
   "pygments_lexer": "ipython3",
   "version": "3.8.8"
  }
 },
 "nbformat": 4,
 "nbformat_minor": 5
}
