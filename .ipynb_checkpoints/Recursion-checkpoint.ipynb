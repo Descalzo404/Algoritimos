{
 "cells": [
  {
   "cell_type": "markdown",
   "id": "1f789b84",
   "metadata": {},
   "source": [
    "# Recursion "
   ]
  },
  {
   "cell_type": "markdown",
   "id": "05cbb1f8",
   "metadata": {},
   "source": [
    "- Recursion is when a function calls itself\n",
    "- It works as a stack, everytime the function is called it is stored in the stack, and when it reaches the base-case the stack begin \"poping\" from the top."
   ]
  },
  {
   "cell_type": "markdown",
   "id": "ed394af1",
   "metadata": {},
   "source": [
    "##### Simple recursion example"
   ]
  },
  {
   "cell_type": "code",
   "execution_count": 1,
   "id": "03bab569",
   "metadata": {},
   "outputs": [],
   "source": [
    "def soma(array):\n",
    "    if array == []:\n",
    "        return 0\n",
    "    else:\n",
    "        return array[0] + soma(array[1:]) "
   ]
  },
  {
   "cell_type": "code",
   "execution_count": 2,
   "id": "924604bd",
   "metadata": {},
   "outputs": [
    {
     "name": "stdout",
     "output_type": "stream",
     "text": [
      "39\n"
     ]
    }
   ],
   "source": [
    "print(soma([2,5,7,3,7,2,9,4]))"
   ]
  },
  {
   "cell_type": "markdown",
   "id": "0dd8cc89",
   "metadata": {},
   "source": [
    "#### Euclidean algorithm example "
   ]
  },
  {
   "cell_type": "markdown",
   "id": "4351aaa8",
   "metadata": {},
   "source": [
    "- In this example the algorithm will try to find the maximum value of a square that a farm can divide itself"
   ]
  },
  {
   "cell_type": "code",
   "execution_count": 39,
   "id": "44ddcd5c",
   "metadata": {},
   "outputs": [],
   "source": [
    "def farm(height,width):\n",
    "    if height == width:\n",
    "        return height\n",
    "    \n",
    "    elif height < width:\n",
    "        reminder = width % height\n",
    "        if reminder == 0:\n",
    "            return farm(height,height) # If i don't put this return before the call of farm the function returns none ***\n",
    "        else:\n",
    "            return farm(height, reminder)\n",
    "            \n",
    "    elif height > width:\n",
    "        reminder = height % width\n",
    "        if reminder == 0:\n",
    "            return farm(width,width)\n",
    "        else:\n",
    "            return farm(reminder, width)"
   ]
  },
  {
   "cell_type": "code",
   "execution_count": 40,
   "id": "4ed77744",
   "metadata": {},
   "outputs": [
    {
     "name": "stdout",
     "output_type": "stream",
     "text": [
      "80\n"
     ]
    }
   ],
   "source": [
    "print(farm(640,1680))"
   ]
  },
  {
   "cell_type": "markdown",
   "id": "4a83f238",
   "metadata": {},
   "source": [
    "- Elegant way of doing this"
   ]
  },
  {
   "cell_type": "code",
   "execution_count": 44,
   "id": "434cae0b",
   "metadata": {},
   "outputs": [],
   "source": [
    "def gdc(x,y):\n",
    "    if y == 0:\n",
    "        return x\n",
    "    else:\n",
    "        return gdc(y, x%y)"
   ]
  },
  {
   "cell_type": "code",
   "execution_count": 45,
   "id": "e4215859",
   "metadata": {},
   "outputs": [
    {
     "name": "stdout",
     "output_type": "stream",
     "text": [
      "80\n"
     ]
    }
   ],
   "source": [
    "print(gdc(1680, 640))"
   ]
  },
  {
   "cell_type": "code",
   "execution_count": 48,
   "id": "d5b1a9ea",
   "metadata": {},
   "outputs": [
    {
     "name": "stdout",
     "output_type": "stream",
     "text": [
      "7\n",
      "5\n"
     ]
    }
   ],
   "source": [
    "print(7%12)\n",
    "print(12%7)"
   ]
  }
 ],
 "metadata": {
  "kernelspec": {
   "display_name": "Python 3",
   "language": "python",
   "name": "python3"
  },
  "language_info": {
   "codemirror_mode": {
    "name": "ipython",
    "version": 3
   },
   "file_extension": ".py",
   "mimetype": "text/x-python",
   "name": "python",
   "nbconvert_exporter": "python",
   "pygments_lexer": "ipython3",
   "version": "3.8.8"
  }
 },
 "nbformat": 4,
 "nbformat_minor": 5
}
