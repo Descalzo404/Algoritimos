{
 "cells": [
  {
   "cell_type": "markdown",
   "id": "e91686f6",
   "metadata": {},
   "source": [
    "# Selection Sort "
   ]
  },
  {
   "cell_type": "markdown",
   "id": "e9888ff0",
   "metadata": {},
   "source": [
    "This sorting algorithm goes through the entire array of values and get the biggest or smallest one. Then, the algorithm creates a new array with the value"
   ]
  },
  {
   "cell_type": "markdown",
   "id": "ff1e05b0",
   "metadata": {},
   "source": [
    "### Function to get the smallest value of a array  | O(n)"
   ]
  },
  {
   "cell_type": "code",
   "execution_count": 1,
   "id": "8618ffa5",
   "metadata": {},
   "outputs": [],
   "source": [
    "def get_smaller_value(array):\n",
    "    small = array[0]\n",
    "    index = 0\n",
    "    for i in range(1, len(array)):\n",
    "        if array[i] < small:\n",
    "            small = array[i]\n",
    "            index = i\n",
    "    return index"
   ]
  },
  {
   "cell_type": "markdown",
   "id": "13714d88",
   "metadata": {},
   "source": [
    "### Selection Sort Function "
   ]
  },
  {
   "cell_type": "code",
   "execution_count": 4,
   "id": "2760b65a",
   "metadata": {},
   "outputs": [],
   "source": [
    "def selection_sort(array):\n",
    "    new_array = []\n",
    "    for i in range (len(array)):\n",
    "        smallest = get_smaller_value(array)\n",
    "        new_array.append(array.pop(smallest))\n",
    "    return new_array"
   ]
  },
  {
   "cell_type": "markdown",
   "id": "8d8e0e8b",
   "metadata": {},
   "source": [
    "### Testing "
   ]
  },
  {
   "cell_type": "code",
   "execution_count": 5,
   "id": "168d8a5b",
   "metadata": {},
   "outputs": [
    {
     "name": "stdout",
     "output_type": "stream",
     "text": [
      "[1, 2, 5, 5, 8, 10, 56, 123]\n"
     ]
    }
   ],
   "source": [
    "print(selection_sort([10,5,123,56,1,2,8,5]))"
   ]
  },
  {
   "cell_type": "markdown",
   "id": "74efcb39",
   "metadata": {},
   "source": [
    "### Big O "
   ]
  },
  {
   "cell_type": "markdown",
   "id": "9e078406",
   "metadata": {},
   "source": [
    "- This algorithm has a Big O notation of O(n²), because it checks the smallest number in the array \"O(n)\" n times, so O(n X n) = O(n²)."
   ]
  },
  {
   "cell_type": "code",
   "execution_count": null,
   "id": "a7dd2eb0",
   "metadata": {},
   "outputs": [],
   "source": []
  }
 ],
 "metadata": {
  "kernelspec": {
   "display_name": "Python 3",
   "language": "python",
   "name": "python3"
  },
  "language_info": {
   "codemirror_mode": {
    "name": "ipython",
    "version": 3
   },
   "file_extension": ".py",
   "mimetype": "text/x-python",
   "name": "python",
   "nbconvert_exporter": "python",
   "pygments_lexer": "ipython3",
   "version": "3.8.8"
  }
 },
 "nbformat": 4,
 "nbformat_minor": 5
}
