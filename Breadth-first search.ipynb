{
 "cells": [
  {
   "cell_type": "markdown",
   "id": "d7070e0b",
   "metadata": {},
   "source": [
    "# Breadth-first search "
   ]
  },
  {
   "cell_type": "markdown",
   "id": "ecebc9d9",
   "metadata": {},
   "source": [
    "- This algorithm finds the smallest path between 2 points.\n",
    "- It uses the concept of queues (first in, first out)"
   ]
  },
  {
   "cell_type": "markdown",
   "id": "0e63f55c",
   "metadata": {},
   "source": [
    "#### Finding the mango vendor between your friends "
   ]
  },
  {
   "cell_type": "markdown",
   "id": "5d492c71",
   "metadata": {},
   "source": [
    "First is defined the neighbors"
   ]
  },
  {
   "cell_type": "code",
   "execution_count": 12,
   "id": "d1fd3630",
   "metadata": {},
   "outputs": [],
   "source": [
    "graph = {}\n",
    "\n",
    "graph['you'] = [\"alice\", \"bob\", \"claire\"]\n",
    "graph[\"bob\"] = [\"anuj\", \"peggy\"]\n",
    "graph[\"alice\"] = [\"peggy\"]\n",
    "graph[\"claire\"] = [\"thom\", \"jonny\"]\n",
    "graph[\"anuj\"] = []\n",
    "graph[\"peggy\"] = []\n",
    "graph[\"thom\"] = []\n",
    "graph[\"jonny\"] = []"
   ]
  },
  {
   "cell_type": "markdown",
   "id": "332690b8",
   "metadata": {},
   "source": [
    "Then it is defined the first queue"
   ]
  },
  {
   "cell_type": "code",
   "execution_count": 13,
   "id": "966c157f",
   "metadata": {},
   "outputs": [],
   "source": [
    "from collections import deque\n",
    "\n",
    "search_queue = deque()\n",
    "search_queue += graph[\"you\"]"
   ]
  },
  {
   "cell_type": "markdown",
   "id": "84fe8293",
   "metadata": {},
   "source": [
    "And now we write the algorithm"
   ]
  },
  {
   "cell_type": "code",
   "execution_count": 14,
   "id": "6f0f0e33",
   "metadata": {},
   "outputs": [],
   "source": [
    "def BFS(search_queue):\n",
    "    verified = []\n",
    "    while search_queue:\n",
    "        person = search_queue.popleft()\n",
    "        if not person in verified:\n",
    "            if person_is_vendor(person):\n",
    "                return f\"{person} is a mango vendor!\"\n",
    "            else:\n",
    "                search_queue += graph[person]\n",
    "                verified.append(person)\n",
    "\n",
    "    return False\n",
    "\n",
    "def person_is_vendor(name):\n",
    "    return name[-1] == \"m\""
   ]
  },
  {
   "cell_type": "code",
   "execution_count": 15,
   "id": "63bd7c9d",
   "metadata": {},
   "outputs": [
    {
     "name": "stdout",
     "output_type": "stream",
     "text": [
      "thom is a mango vendor!\n"
     ]
    }
   ],
   "source": [
    "print(BFS(search_queue))"
   ]
  },
  {
   "cell_type": "code",
   "execution_count": null,
   "id": "19ba591b",
   "metadata": {},
   "outputs": [],
   "source": []
  }
 ],
 "metadata": {
  "kernelspec": {
   "display_name": "Python 3",
   "language": "python",
   "name": "python3"
  },
  "language_info": {
   "codemirror_mode": {
    "name": "ipython",
    "version": 3
   },
   "file_extension": ".py",
   "mimetype": "text/x-python",
   "name": "python",
   "nbconvert_exporter": "python",
   "pygments_lexer": "ipython3",
   "version": "3.8.8"
  }
 },
 "nbformat": 4,
 "nbformat_minor": 5
}
