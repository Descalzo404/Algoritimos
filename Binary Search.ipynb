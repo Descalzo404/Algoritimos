{
 "cells": [
  {
   "cell_type": "markdown",
   "id": "1b8e4396",
   "metadata": {},
   "source": [
    "# Binary Search"
   ]
  },
  {
   "cell_type": "markdown",
   "id": "2bd5b018",
   "metadata": {},
   "source": [
    "Binary search is like folding the array in half at every step, and checking if you will get reed of the uuper part or lower part and repeat the step until you find the location of a value or returns none."
   ]
  },
  {
   "cell_type": "markdown",
   "id": "30908f8c",
   "metadata": {},
   "source": [
    "### Coding the algorithm "
   ]
  },
  {
   "cell_type": "code",
   "execution_count": 1,
   "id": "a43eadea",
   "metadata": {},
   "outputs": [],
   "source": [
    "def binary_search(lista, item):\n",
    "    # This algorithm returns the position of an item in an organized list\n",
    "    low = 0\n",
    "    high = len(lista) - 1\n",
    "\n",
    "    while low <= high:\n",
    "        middle = int((low + high) / 2)\n",
    "        guess = lista[middle]\n",
    "\n",
    "        if guess == item:\n",
    "            # If the guess is right it returns the position of the item\n",
    "            return middle\n",
    "\n",
    "        if guess > item:\n",
    "            # If the item is smaller than the guess, it means it is in the lower part of the array.\n",
    "            # So the new top of the array becomes the middle - 1\n",
    "            high = middle - 1\n",
    "\n",
    "        else:\n",
    "            # If the item is larger than the guess, it means it is in the upper part of the array.\n",
    "            # So the new bottom of the array becomes the middle + 1\n",
    "            low = middle + 1\n",
    "    \n",
    "    return None"
   ]
  },
  {
   "cell_type": "markdown",
   "id": "7e049e27",
   "metadata": {},
   "source": [
    "Testing it:"
   ]
  },
  {
   "cell_type": "code",
   "execution_count": 2,
   "id": "653f9054",
   "metadata": {},
   "outputs": [
    {
     "name": "stdout",
     "output_type": "stream",
     "text": [
      "2\n",
      "None\n"
     ]
    }
   ],
   "source": [
    "my_list = [1, 2, 3, 5, 8, 13, 21, 34]\n",
    "\n",
    "print(binary_search(my_list, 3)) #=> 2\n",
    "print(binary_search(my_list, 4)) #=> none"
   ]
  },
  {
   "cell_type": "markdown",
   "id": "e348c041",
   "metadata": {},
   "source": [
    "### Big O Notation "
   ]
  },
  {
   "cell_type": "markdown",
   "id": "c3e4749a",
   "metadata": {},
   "source": [
    "- This algorithm has a Big O notation of O(log n)\n",
    "- Because everytime you are taking out half of the lenght of the array\n",
    "- For an array of 128 the algorithm takes log<sub>2</sub> 128 steps. In other words 7 steps\n",
    "- If we double the range of the array it takes only 8 steps, one more. Log<sub>2</sub> 256 = 8."
   ]
  },
  {
   "cell_type": "code",
   "execution_count": null,
   "id": "ba26fea0",
   "metadata": {},
   "outputs": [],
   "source": []
  }
 ],
 "metadata": {
  "kernelspec": {
   "display_name": "Python 3",
   "language": "python",
   "name": "python3"
  },
  "language_info": {
   "codemirror_mode": {
    "name": "ipython",
    "version": 3
   },
   "file_extension": ".py",
   "mimetype": "text/x-python",
   "name": "python",
   "nbconvert_exporter": "python",
   "pygments_lexer": "ipython3",
   "version": "3.8.8"
  }
 },
 "nbformat": 4,
 "nbformat_minor": 5
}
