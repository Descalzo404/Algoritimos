{
 "cells": [
  {
   "cell_type": "markdown",
   "id": "84eca1b9",
   "metadata": {},
   "source": [
    "# Quick Sort "
   ]
  },
  {
   "cell_type": "markdown",
   "id": "4a523494",
   "metadata": {},
   "source": [
    "- This algorithm gets a number and then divides the array into (array smaller) + chosen number + (array bigger)\n",
    "- Then it recursively does this with the side arrays"
   ]
  },
  {
   "cell_type": "code",
   "execution_count": 1,
   "id": "5790d97c",
   "metadata": {},
   "outputs": [],
   "source": [
    " def quicksort(array):\n",
    "        if len(array) < 2:\n",
    "            return array\n",
    "        else:\n",
    "            pivot = array[0]\n",
    "            smaller = [i for i in array[1:] if i <= pivot]\n",
    "            bigger = [i for i in array[1:] if i > pivot]\n",
    "            return quicksort(smaller) + [pivot] + quicksort(bigger)"
   ]
  },
  {
   "cell_type": "code",
   "execution_count": 2,
   "id": "830a0e9f",
   "metadata": {},
   "outputs": [
    {
     "name": "stdout",
     "output_type": "stream",
     "text": [
      "[2, 3, 4, 5, 5, 8, 9, 12]\n"
     ]
    }
   ],
   "source": [
    "print(quicksort([5,8,2,4,9,12,3,5]))"
   ]
  },
  {
   "cell_type": "markdown",
   "id": "113d5f06",
   "metadata": {},
   "source": [
    "- This algorithm velocity depends on the pivot chosen"
   ]
  }
 ],
 "metadata": {
  "kernelspec": {
   "display_name": "Python 3",
   "language": "python",
   "name": "python3"
  },
  "language_info": {
   "codemirror_mode": {
    "name": "ipython",
    "version": 3
   },
   "file_extension": ".py",
   "mimetype": "text/x-python",
   "name": "python",
   "nbconvert_exporter": "python",
   "pygments_lexer": "ipython3",
   "version": "3.8.8"
  }
 },
 "nbformat": 4,
 "nbformat_minor": 5
}
